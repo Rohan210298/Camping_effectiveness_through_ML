{
 "cells": [
  {
   "cell_type": "markdown",
   "id": "09f7d396-c7a4-415e-a966-a35cf7d63db2",
   "metadata": {},
   "source": [
    "# Performing machine learning models on the camping data of last 12 months"
   ]
  },
  {
   "cell_type": "code",
   "execution_count": 5,
   "id": "420c6bc1-3108-40fd-9dbd-5982e118252b",
   "metadata": {},
   "outputs": [],
   "source": [
    "#importing the required library for the model\n",
    "import numpy as np\n",
    "import pandas as pd\n",
    "import matplotlib.pyplot as plt\n",
    "import seaborn as sns\n",
    "\n",
    "import warnings\n",
    "warnings.filterwarnings('ignore')"
   ]
  },
  {
   "cell_type": "code",
   "execution_count": 2,
   "id": "399d1992-e833-441d-8d18-008ae55f2f55",
   "metadata": {},
   "outputs": [],
   "source": [
    "#converting the csv file to pandas DataFrame\n",
    "data = pd.read_csv(\"data.csv\")"
   ]
  },
  {
   "cell_type": "code",
   "execution_count": 6,
   "id": "72bed0f5-d470-4ca3-ad7e-0e0c27595071",
   "metadata": {},
   "outputs": [
    {
     "name": "stdout",
     "output_type": "stream",
     "text": [
      "<class 'pandas.core.frame.DataFrame'>\n",
      "RangeIndex: 11440776 entries, 0 to 11440775\n",
      "Data columns (total 12 columns):\n",
      " #   Column              Dtype  \n",
      "---  ------              -----  \n",
      " 0   CustID              object \n",
      " 1   status              object \n",
      " 2   Campaign_Exec_Date  object \n",
      " 3   Campaign_Channel    object \n",
      " 4   Gender              object \n",
      " 5   Pincode             object \n",
      " 6   State               object \n",
      " 7   SaleValue           float64\n",
      " 8   OrderedQuantity     int64  \n",
      " 9   OrderDate           object \n",
      " 10  month_difference2   int64  \n",
      " 11  outcome             int64  \n",
      "dtypes: float64(1), int64(3), object(8)\n",
      "memory usage: 1.0+ GB\n"
     ]
    }
   ],
   "source": [
    "data.info()"
   ]
  },
  {
   "cell_type": "code",
   "execution_count": 4,
   "id": "2fe525dc-c934-41cc-8bb9-a20d51f9b991",
   "metadata": {},
   "outputs": [],
   "source": [
    "#Removing the unwanted columns from the data frame\n",
    "data.drop(\"Unnamed: 0\",axis=1,inplace=True)\n",
    "data.drop(\"month_difference2\",axis=1,inplace=True)"
   ]
  },
  {
   "cell_type": "code",
   "execution_count": 8,
   "id": "73201b82-8a47-4dd5-91b2-0c21d0d3bda5",
   "metadata": {},
   "outputs": [
    {
     "name": "stdout",
     "output_type": "stream",
     "text": [
      "<class 'pandas.core.frame.DataFrame'>\n",
      "RangeIndex: 11440776 entries, 0 to 11440775\n",
      "Data columns (total 11 columns):\n",
      " #   Column              Dtype  \n",
      "---  ------              -----  \n",
      " 0   CustID              object \n",
      " 1   status              object \n",
      " 2   Campaign_Exec_Date  object \n",
      " 3   Campaign_Channel    object \n",
      " 4   Gender              object \n",
      " 5   Pincode             object \n",
      " 6   State               object \n",
      " 7   SaleValue           float64\n",
      " 8   OrderedQuantity     int64  \n",
      " 9   OrderDate           object \n",
      " 10  outcome             int64  \n",
      "dtypes: float64(1), int64(2), object(8)\n",
      "memory usage: 960.1+ MB\n"
     ]
    }
   ],
   "source": [
    "data.info()"
   ]
  },
  {
   "cell_type": "code",
   "execution_count": 9,
   "id": "2e9ad0ae-ef7e-473c-acd6-d36b8812e51d",
   "metadata": {},
   "outputs": [
    {
     "data": {
      "text/plain": [
       "outcome\n",
       "0    9224947\n",
       "1    2215829\n",
       "Name: count, dtype: int64"
      ]
     },
     "execution_count": 9,
     "metadata": {},
     "output_type": "execute_result"
    }
   ],
   "source": [
    "#sum of unique values in the outcome column\n",
    "data['outcome'].value_counts()"
   ]
  },
  {
   "cell_type": "code",
   "execution_count": 13,
   "id": "4942e004-4a83-4e23-9648-bf1408e249c1",
   "metadata": {},
   "outputs": [
    {
     "data": {
      "text/html": [
       "<div>\n",
       "<style scoped>\n",
       "    .dataframe tbody tr th:only-of-type {\n",
       "        vertical-align: middle;\n",
       "    }\n",
       "\n",
       "    .dataframe tbody tr th {\n",
       "        vertical-align: top;\n",
       "    }\n",
       "\n",
       "    .dataframe thead th {\n",
       "        text-align: right;\n",
       "    }\n",
       "</style>\n",
       "<table border=\"1\" class=\"dataframe\">\n",
       "  <thead>\n",
       "    <tr style=\"text-align: right;\">\n",
       "      <th></th>\n",
       "      <th>CustID</th>\n",
       "      <th>status</th>\n",
       "      <th>Campaign_Exec_Date</th>\n",
       "      <th>Campaign_Channel</th>\n",
       "      <th>Gender</th>\n",
       "      <th>Pincode</th>\n",
       "      <th>State</th>\n",
       "      <th>SaleValue</th>\n",
       "      <th>OrderedQuantity</th>\n",
       "      <th>OrderDate</th>\n",
       "      <th>outcome</th>\n",
       "    </tr>\n",
       "  </thead>\n",
       "  <tbody>\n",
       "    <tr>\n",
       "      <th>0</th>\n",
       "      <td>11111J11RREFG1VoGo1FejtGEVV88JtM</td>\n",
       "      <td>delivered</td>\n",
       "      <td>2020-01-13</td>\n",
       "      <td>Email</td>\n",
       "      <td>Not available</td>\n",
       "      <td>410221.0</td>\n",
       "      <td>Maharashtra</td>\n",
       "      <td>24725.106</td>\n",
       "      <td>1</td>\n",
       "      <td>2020-11-05</td>\n",
       "      <td>0</td>\n",
       "    </tr>\n",
       "    <tr>\n",
       "      <th>1</th>\n",
       "      <td>11111J11RREFG1VoGo1FejtGEVV88JtM</td>\n",
       "      <td>delivered</td>\n",
       "      <td>2020-01-13</td>\n",
       "      <td>Email</td>\n",
       "      <td>Not available</td>\n",
       "      <td>410221.0</td>\n",
       "      <td>Maharashtra</td>\n",
       "      <td>1504.500</td>\n",
       "      <td>1</td>\n",
       "      <td>2020-11-05</td>\n",
       "      <td>0</td>\n",
       "    </tr>\n",
       "    <tr>\n",
       "      <th>2</th>\n",
       "      <td>11111J11RREFG1VoGo1FejtGEVV88JtM</td>\n",
       "      <td>delivered</td>\n",
       "      <td>2020-01-13</td>\n",
       "      <td>Email</td>\n",
       "      <td>Not available</td>\n",
       "      <td>410221.0</td>\n",
       "      <td>Maharashtra</td>\n",
       "      <td>1463.292</td>\n",
       "      <td>1</td>\n",
       "      <td>2020-11-05</td>\n",
       "      <td>0</td>\n",
       "    </tr>\n",
       "    <tr>\n",
       "      <th>3</th>\n",
       "      <td>11111J11RREFG1VoGo1FejtGEVV88JtM</td>\n",
       "      <td>delivered</td>\n",
       "      <td>2020-01-13</td>\n",
       "      <td>Email</td>\n",
       "      <td>Not available</td>\n",
       "      <td>410221.0</td>\n",
       "      <td>Maharashtra</td>\n",
       "      <td>268.464</td>\n",
       "      <td>1</td>\n",
       "      <td>2020-11-05</td>\n",
       "      <td>0</td>\n",
       "    </tr>\n",
       "    <tr>\n",
       "      <th>4</th>\n",
       "      <td>11111J11RREFG1VoGo1FejtGEVV88JtM</td>\n",
       "      <td>delivered</td>\n",
       "      <td>2020-01-13</td>\n",
       "      <td>Email</td>\n",
       "      <td>Not available</td>\n",
       "      <td>410221.0</td>\n",
       "      <td>Maharashtra</td>\n",
       "      <td>-24725.106</td>\n",
       "      <td>-1</td>\n",
       "      <td>2020-11-06</td>\n",
       "      <td>0</td>\n",
       "    </tr>\n",
       "  </tbody>\n",
       "</table>\n",
       "</div>"
      ],
      "text/plain": [
       "                             CustID     status Campaign_Exec_Date  \\\n",
       "0  11111J11RREFG1VoGo1FejtGEVV88JtM  delivered         2020-01-13   \n",
       "1  11111J11RREFG1VoGo1FejtGEVV88JtM  delivered         2020-01-13   \n",
       "2  11111J11RREFG1VoGo1FejtGEVV88JtM  delivered         2020-01-13   \n",
       "3  11111J11RREFG1VoGo1FejtGEVV88JtM  delivered         2020-01-13   \n",
       "4  11111J11RREFG1VoGo1FejtGEVV88JtM  delivered         2020-01-13   \n",
       "\n",
       "  Campaign_Channel         Gender   Pincode        State  SaleValue  \\\n",
       "0            Email  Not available  410221.0  Maharashtra  24725.106   \n",
       "1            Email  Not available  410221.0  Maharashtra   1504.500   \n",
       "2            Email  Not available  410221.0  Maharashtra   1463.292   \n",
       "3            Email  Not available  410221.0  Maharashtra    268.464   \n",
       "4            Email  Not available  410221.0  Maharashtra -24725.106   \n",
       "\n",
       "   OrderedQuantity   OrderDate  outcome  \n",
       "0                1  2020-11-05        0  \n",
       "1                1  2020-11-05        0  \n",
       "2                1  2020-11-05        0  \n",
       "3                1  2020-11-05        0  \n",
       "4               -1  2020-11-06        0  "
      ]
     },
     "execution_count": 13,
     "metadata": {},
     "output_type": "execute_result"
    }
   ],
   "source": [
    "data.head()"
   ]
  },
  {
   "cell_type": "code",
   "execution_count": 59,
   "id": "baed2704-1316-4d5d-b31c-2197b1b3a1c7",
   "metadata": {},
   "outputs": [
    {
     "data": {
      "image/png": "[encoded data removed]",
      "text/plain": [
       "<Figure size 640x480 with 1 Axes>"
      ]
     },
     "metadata": {},
     "output_type": "display_data"
    }
   ],
   "source": [
    "#comparision between the values\n",
    "sns.countplot(data=data,x='outcome',palette='RdBu_r')\n",
    "plt.show()"
   ]
  },
  {
   "cell_type": "code",
   "execution_count": 60,
   "id": "d37b4e02-cca9-4c27-962d-2cc14b4300c2",
   "metadata": {},
   "outputs": [
    {
     "data": {
      "image/png": "[encoded data removed]",
      "text/plain": [
       "<Figure size 640x480 with 1 Axes>"
      ]
     },
     "metadata": {},
     "output_type": "display_data"
    }
   ],
   "source": [
    "sns.countplot(data=data,x='outcome',hue='Campaign_Channel')\n",
    "plt.show()"
   ]
  },
  {
   "cell_type": "code",
   "execution_count": 61,
   "id": "c9a42ad1-c91c-4375-b87a-a23a8e8330e3",
   "metadata": {},
   "outputs": [
    {
     "data": {
      "image/png": "[encoded data removed]",
      "text/plain": [
       "<Figure size 640x480 with 1 Axes>"
      ]
     },
     "metadata": {},
     "output_type": "display_data"
    }
   ],
   "source": [
    "sns.countplot(data=data,x='outcome',hue='status')\n",
    "plt.show()"
   ]
  },
  {
   "cell_type": "code",
   "execution_count": 15,
   "id": "e2690467-cdce-4658-a4bc-990b27e63107",
   "metadata": {},
   "outputs": [],
   "source": [
    "#importing the LabelEncoder for converting the text data into numeric\n",
    "from sklearn.preprocessing import LabelEncoder"
   ]
  },
  {
   "cell_type": "code",
   "execution_count": 16,
   "id": "86b051a2-30d4-41b3-9569-46d7871843e0",
   "metadata": {},
   "outputs": [],
   "source": [
    "#creating an object for LabelEncoder\n",
    "lbe = LabelEncoder()"
   ]
  },
  {
   "cell_type": "code",
   "execution_count": 17,
   "id": "a41c0c33-a5a9-4c80-97ef-3622f5ff9490",
   "metadata": {},
   "outputs": [
    {
     "data": {
      "text/plain": [
       "Index(['CustID', 'status', 'Campaign_Exec_Date', 'Campaign_Channel', 'Gender',\n",
       "       'Pincode', 'State', 'SaleValue', 'OrderedQuantity', 'OrderDate',\n",
       "       'outcome'],\n",
       "      dtype='object')"
      ]
     },
     "execution_count": 17,
     "metadata": {},
     "output_type": "execute_result"
    }
   ],
   "source": [
    "data.columns"
   ]
  },
  {
   "cell_type": "code",
   "execution_count": 19,
   "id": "b635b5b0-566b-4247-9ca0-908976e87a0c",
   "metadata": {},
   "outputs": [
    {
     "data": {
      "text/html": [
       "<div>\n",
       "<style scoped>\n",
       "    .dataframe tbody tr th:only-of-type {\n",
       "        vertical-align: middle;\n",
       "    }\n",
       "\n",
       "    .dataframe tbody tr th {\n",
       "        vertical-align: top;\n",
       "    }\n",
       "\n",
       "    .dataframe thead th {\n",
       "        text-align: right;\n",
       "    }\n",
       "</style>\n",
       "<table border=\"1\" class=\"dataframe\">\n",
       "  <thead>\n",
       "    <tr style=\"text-align: right;\">\n",
       "      <th></th>\n",
       "      <th>CustID</th>\n",
       "      <th>status</th>\n",
       "      <th>Campaign_Exec_Date</th>\n",
       "      <th>Campaign_Channel</th>\n",
       "      <th>Gender</th>\n",
       "      <th>Pincode</th>\n",
       "      <th>State</th>\n",
       "      <th>SaleValue</th>\n",
       "      <th>OrderedQuantity</th>\n",
       "      <th>OrderDate</th>\n",
       "      <th>outcome</th>\n",
       "    </tr>\n",
       "  </thead>\n",
       "  <tbody>\n",
       "    <tr>\n",
       "      <th>0</th>\n",
       "      <td>11111J11RREFG1VoGo1FejtGEVV88JtM</td>\n",
       "      <td>delivered</td>\n",
       "      <td>2020-01-13</td>\n",
       "      <td>Email</td>\n",
       "      <td>Not available</td>\n",
       "      <td>410221.0</td>\n",
       "      <td>Maharashtra</td>\n",
       "      <td>24725.106</td>\n",
       "      <td>1</td>\n",
       "      <td>2020-11-05</td>\n",
       "      <td>0</td>\n",
       "    </tr>\n",
       "    <tr>\n",
       "      <th>1</th>\n",
       "      <td>11111J11RREFG1VoGo1FejtGEVV88JtM</td>\n",
       "      <td>delivered</td>\n",
       "      <td>2020-01-13</td>\n",
       "      <td>Email</td>\n",
       "      <td>Not available</td>\n",
       "      <td>410221.0</td>\n",
       "      <td>Maharashtra</td>\n",
       "      <td>1504.500</td>\n",
       "      <td>1</td>\n",
       "      <td>2020-11-05</td>\n",
       "      <td>0</td>\n",
       "    </tr>\n",
       "    <tr>\n",
       "      <th>2</th>\n",
       "      <td>11111J11RREFG1VoGo1FejtGEVV88JtM</td>\n",
       "      <td>delivered</td>\n",
       "      <td>2020-01-13</td>\n",
       "      <td>Email</td>\n",
       "      <td>Not available</td>\n",
       "      <td>410221.0</td>\n",
       "      <td>Maharashtra</td>\n",
       "      <td>1463.292</td>\n",
       "      <td>1</td>\n",
       "      <td>2020-11-05</td>\n",
       "      <td>0</td>\n",
       "    </tr>\n",
       "    <tr>\n",
       "      <th>3</th>\n",
       "      <td>11111J11RREFG1VoGo1FejtGEVV88JtM</td>\n",
       "      <td>delivered</td>\n",
       "      <td>2020-01-13</td>\n",
       "      <td>Email</td>\n",
       "      <td>Not available</td>\n",
       "      <td>410221.0</td>\n",
       "      <td>Maharashtra</td>\n",
       "      <td>268.464</td>\n",
       "      <td>1</td>\n",
       "      <td>2020-11-05</td>\n",
       "      <td>0</td>\n",
       "    </tr>\n",
       "    <tr>\n",
       "      <th>4</th>\n",
       "      <td>11111J11RREFG1VoGo1FejtGEVV88JtM</td>\n",
       "      <td>delivered</td>\n",
       "      <td>2020-01-13</td>\n",
       "      <td>Email</td>\n",
       "      <td>Not available</td>\n",
       "      <td>410221.0</td>\n",
       "      <td>Maharashtra</td>\n",
       "      <td>-24725.106</td>\n",
       "      <td>-1</td>\n",
       "      <td>2020-11-06</td>\n",
       "      <td>0</td>\n",
       "    </tr>\n",
       "  </tbody>\n",
       "</table>\n",
       "</div>"
      ],
      "text/plain": [
       "                             CustID     status Campaign_Exec_Date  \\\n",
       "0  11111J11RREFG1VoGo1FejtGEVV88JtM  delivered         2020-01-13   \n",
       "1  11111J11RREFG1VoGo1FejtGEVV88JtM  delivered         2020-01-13   \n",
       "2  11111J11RREFG1VoGo1FejtGEVV88JtM  delivered         2020-01-13   \n",
       "3  11111J11RREFG1VoGo1FejtGEVV88JtM  delivered         2020-01-13   \n",
       "4  11111J11RREFG1VoGo1FejtGEVV88JtM  delivered         2020-01-13   \n",
       "\n",
       "  Campaign_Channel         Gender   Pincode        State  SaleValue  \\\n",
       "0            Email  Not available  410221.0  Maharashtra  24725.106   \n",
       "1            Email  Not available  410221.0  Maharashtra   1504.500   \n",
       "2            Email  Not available  410221.0  Maharashtra   1463.292   \n",
       "3            Email  Not available  410221.0  Maharashtra    268.464   \n",
       "4            Email  Not available  410221.0  Maharashtra -24725.106   \n",
       "\n",
       "   OrderedQuantity   OrderDate  outcome  \n",
       "0                1  2020-11-05        0  \n",
       "1                1  2020-11-05        0  \n",
       "2                1  2020-11-05        0  \n",
       "3                1  2020-11-05        0  \n",
       "4               -1  2020-11-06        0  "
      ]
     },
     "execution_count": 19,
     "metadata": {},
     "output_type": "execute_result"
    }
   ],
   "source": [
    "data.head()"
   ]
  },
  {
   "cell_type": "code",
   "execution_count": 22,
   "id": "422b18a9-4d18-4863-baf8-870d22aed2fd",
   "metadata": {},
   "outputs": [],
   "source": [
    "#dividing the data into two variable for train test\n",
    "x = data.iloc[:,:-1]"
   ]
  },
  {
   "cell_type": "code",
   "execution_count": 24,
   "id": "79391c67-cd6a-4619-87a3-df3d34989483",
   "metadata": {},
   "outputs": [],
   "source": [
    "y = data.iloc[:,-1]"
   ]
  },
  {
   "cell_type": "code",
   "execution_count": 26,
   "id": "9306390d-726e-4cd3-bd77-d4b6e09cd91f",
   "metadata": {},
   "outputs": [],
   "source": [
    "x.drop(\"CustID\",axis=1,inplace=True)"
   ]
  },
  {
   "cell_type": "code",
   "execution_count": 27,
   "id": "c37d72e7-64d5-42c4-9b7f-22e18dc26c77",
   "metadata": {},
   "outputs": [],
   "source": [
    "#converting the string to numeric\n",
    "x['status'] = lbe.fit_transform(x['status'])"
   ]
  },
  {
   "cell_type": "code",
   "execution_count": 28,
   "id": "6d0e8433-c1cf-4006-a552-56b09a4cd850",
   "metadata": {},
   "outputs": [],
   "source": [
    "x['Campaign_Exec_Date'] = lbe.fit_transform(x['Campaign_Exec_Date'])"
   ]
  },
  {
   "cell_type": "code",
   "execution_count": 29,
   "id": "9fc2635f-4b18-4648-afd5-e0315c8804d6",
   "metadata": {},
   "outputs": [],
   "source": [
    "x['Campaign_Channel'] = lbe.fit_transform(x['Campaign_Channel'])"
   ]
  },
  {
   "cell_type": "code",
   "execution_count": 30,
   "id": "93c069f2-8e4a-49bb-b487-e0b5c1f6876b",
   "metadata": {},
   "outputs": [],
   "source": [
    "x['Gender'] = lbe.fit_transform(x['Gender'])"
   ]
  },
  {
   "cell_type": "code",
   "execution_count": 31,
   "id": "d00ff8e5-ec8d-497b-95f5-d7799a5b3d22",
   "metadata": {},
   "outputs": [],
   "source": [
    "x['State'] = lbe.fit_transform(x['State'])"
   ]
  },
  {
   "cell_type": "code",
   "execution_count": 32,
   "id": "3dceb424-7c41-4799-bda1-ad14896cc662",
   "metadata": {},
   "outputs": [],
   "source": [
    "x['OrderDate'] = lbe.fit_transform(x['OrderDate'])"
   ]
  },
  {
   "cell_type": "code",
   "execution_count": 33,
   "id": "da7eff96-7855-4f85-805c-bd899893b9a0",
   "metadata": {},
   "outputs": [
    {
     "data": {
      "text/html": [
       "<div>\n",
       "<style scoped>\n",
       "    .dataframe tbody tr th:only-of-type {\n",
       "        vertical-align: middle;\n",
       "    }\n",
       "\n",
       "    .dataframe tbody tr th {\n",
       "        vertical-align: top;\n",
       "    }\n",
       "\n",
       "    .dataframe thead th {\n",
       "        text-align: right;\n",
       "    }\n",
       "</style>\n",
       "<table border=\"1\" class=\"dataframe\">\n",
       "  <thead>\n",
       "    <tr style=\"text-align: right;\">\n",
       "      <th></th>\n",
       "      <th>status</th>\n",
       "      <th>Campaign_Exec_Date</th>\n",
       "      <th>Campaign_Channel</th>\n",
       "      <th>Gender</th>\n",
       "      <th>Pincode</th>\n",
       "      <th>State</th>\n",
       "      <th>SaleValue</th>\n",
       "      <th>OrderedQuantity</th>\n",
       "      <th>OrderDate</th>\n",
       "    </tr>\n",
       "  </thead>\n",
       "  <tbody>\n",
       "    <tr>\n",
       "      <th>0</th>\n",
       "      <td>2</td>\n",
       "      <td>9</td>\n",
       "      <td>0</td>\n",
       "      <td>2</td>\n",
       "      <td>410221.0</td>\n",
       "      <td>20</td>\n",
       "      <td>24725.106</td>\n",
       "      <td>1</td>\n",
       "      <td>309</td>\n",
       "    </tr>\n",
       "    <tr>\n",
       "      <th>1</th>\n",
       "      <td>2</td>\n",
       "      <td>9</td>\n",
       "      <td>0</td>\n",
       "      <td>2</td>\n",
       "      <td>410221.0</td>\n",
       "      <td>20</td>\n",
       "      <td>1504.500</td>\n",
       "      <td>1</td>\n",
       "      <td>309</td>\n",
       "    </tr>\n",
       "    <tr>\n",
       "      <th>2</th>\n",
       "      <td>2</td>\n",
       "      <td>9</td>\n",
       "      <td>0</td>\n",
       "      <td>2</td>\n",
       "      <td>410221.0</td>\n",
       "      <td>20</td>\n",
       "      <td>1463.292</td>\n",
       "      <td>1</td>\n",
       "      <td>309</td>\n",
       "    </tr>\n",
       "    <tr>\n",
       "      <th>3</th>\n",
       "      <td>2</td>\n",
       "      <td>9</td>\n",
       "      <td>0</td>\n",
       "      <td>2</td>\n",
       "      <td>410221.0</td>\n",
       "      <td>20</td>\n",
       "      <td>268.464</td>\n",
       "      <td>1</td>\n",
       "      <td>309</td>\n",
       "    </tr>\n",
       "    <tr>\n",
       "      <th>4</th>\n",
       "      <td>2</td>\n",
       "      <td>9</td>\n",
       "      <td>0</td>\n",
       "      <td>2</td>\n",
       "      <td>410221.0</td>\n",
       "      <td>20</td>\n",
       "      <td>-24725.106</td>\n",
       "      <td>-1</td>\n",
       "      <td>310</td>\n",
       "    </tr>\n",
       "  </tbody>\n",
       "</table>\n",
       "</div>"
      ],
      "text/plain": [
       "   status  Campaign_Exec_Date  Campaign_Channel  Gender   Pincode  State  \\\n",
       "0       2                   9                 0       2  410221.0     20   \n",
       "1       2                   9                 0       2  410221.0     20   \n",
       "2       2                   9                 0       2  410221.0     20   \n",
       "3       2                   9                 0       2  410221.0     20   \n",
       "4       2                   9                 0       2  410221.0     20   \n",
       "\n",
       "   SaleValue  OrderedQuantity  OrderDate  \n",
       "0  24725.106                1        309  \n",
       "1   1504.500                1        309  \n",
       "2   1463.292                1        309  \n",
       "3    268.464                1        309  \n",
       "4 -24725.106               -1        310  "
      ]
     },
     "execution_count": 33,
     "metadata": {},
     "output_type": "execute_result"
    }
   ],
   "source": [
    "x.head()"
   ]
  },
  {
   "cell_type": "code",
   "execution_count": 45,
   "id": "11880ac5-4db0-407b-ae5c-55a78ffabc96",
   "metadata": {},
   "outputs": [],
   "source": [
    "x.drop(\"Pincode\",axis=1,inplace=True)"
   ]
  },
  {
   "cell_type": "code",
   "execution_count": 47,
   "id": "cf92979a-5c4b-48b9-8769-ee8cca107292",
   "metadata": {},
   "outputs": [],
   "source": [
    "#importing the traintest model\n",
    "from sklearn.model_selection import train_test_split"
   ]
  },
  {
   "cell_type": "code",
   "execution_count": 48,
   "id": "ab1c8ee2-0c7c-449d-bd67-0ad911f74834",
   "metadata": {},
   "outputs": [],
   "source": [
    "#assigning the values of xtrain, xtest,ytrain,ytext at the ration of 80:20\n",
    "xtrain,xtest,ytrain,ytest = train_test_split(x,y,test_size=0.2,random_state=1)"
   ]
  },
  {
   "cell_type": "code",
   "execution_count": 49,
   "id": "d579449f-1bb4-4a06-9443-0e7446e5c3b8",
   "metadata": {},
   "outputs": [
    {
     "data": {
      "text/plain": [
       "9152620"
      ]
     },
     "execution_count": 49,
     "metadata": {},
     "output_type": "execute_result"
    }
   ],
   "source": [
    "len(xtrain)"
   ]
  },
  {
   "cell_type": "code",
   "execution_count": 50,
   "id": "efe8a452-be82-44b4-9caa-3d9659165285",
   "metadata": {},
   "outputs": [
    {
     "data": {
      "text/plain": [
       "2288156"
      ]
     },
     "execution_count": 50,
     "metadata": {},
     "output_type": "execute_result"
    }
   ],
   "source": [
    "len(xtest)"
   ]
  },
  {
   "cell_type": "code",
   "execution_count": 51,
   "id": "0e970c3e-cb06-4d85-a167-a2a9a7440c9d",
   "metadata": {},
   "outputs": [],
   "source": [
    "#as the data is a categorical data so i have use logisticRegression for the pedicting the values\n",
    "from sklearn.linear_model import LogisticRegression"
   ]
  },
  {
   "cell_type": "code",
   "execution_count": 52,
   "id": "96dcf54d-b8f2-4080-b50c-b6a1910dd306",
   "metadata": {},
   "outputs": [],
   "source": [
    "#creating a object for LogisticRegression\n",
    "logreg = LogisticRegression()"
   ]
  },
  {
   "cell_type": "code",
   "execution_count": 53,
   "id": "9b18624c-e308-46d1-86b5-d5b53521195a",
   "metadata": {},
   "outputs": [
    {
     "data": {
      "text/html": [
       "<style>#sk-container-id-1 {\n",
       "  /* Definition of color scheme common for light and dark mode */\n",
       "  --sklearn-color-text: black;\n",
       "  --sklearn-color-line: gray;\n",
       "  /* Definition of color scheme for unfitted estimators */\n",
       "  --sklearn-color-unfitted-level-0: #fff5e6;\n",
       "  --sklearn-color-unfitted-level-1: #f6e4d2;\n",
       "  --sklearn-color-unfitted-level-2: #ffe0b3;\n",
       "  --sklearn-color-unfitted-level-3: chocolate;\n",
       "  /* Definition of color scheme for fitted estimators */\n",
       "  --sklearn-color-fitted-level-0: #f0f8ff;\n",
       "  --sklearn-color-fitted-level-1: #d4ebff;\n",
       "  --sklearn-color-fitted-level-2: #b3dbfd;\n",
       "  --sklearn-color-fitted-level-3: cornflowerblue;\n",
       "\n",
       "  /* Specific color for light theme */\n",
       "  --sklearn-color-text-on-default-background: var(--sg-text-color, var(--theme-code-foreground, var(--jp-content-font-color1, black)));\n",
       "  --sklearn-color-background: var(--sg-background-color, var(--theme-background, var(--jp-layout-color0, white)));\n",
       "  --sklearn-color-border-box: var(--sg-text-color, var(--theme-code-foreground, var(--jp-content-font-color1, black)));\n",
       "  --sklearn-color-icon: #696969;\n",
       "\n",
       "  @media (prefers-color-scheme: dark) {\n",
       "    /* Redefinition of color scheme for dark theme */\n",
       "    --sklearn-color-text-on-default-background: var(--sg-text-color, var(--theme-code-foreground, var(--jp-content-font-color1, white)));\n",
       "    --sklearn-color-background: var(--sg-background-color, var(--theme-background, var(--jp-layout-color0, #111)));\n",
       "    --sklearn-color-border-box: var(--sg-text-color, var(--theme-code-foreground, var(--jp-content-font-color1, white)));\n",
       "    --sklearn-color-icon: #878787;\n",
       "  }\n",
       "}\n",
       "\n",
       "#sk-container-id-1 {\n",
       "  color: var(--sklearn-color-text);\n",
       "}\n",
       "\n",
       "#sk-container-id-1 pre {\n",
       "  padding: 0;\n",
       "}\n",
       "\n",
       "#sk-container-id-1 input.sk-hidden--visually {\n",
       "  border: 0;\n",
       "  clip: rect(1px 1px 1px 1px);\n",
       "  clip: rect(1px, 1px, 1px, 1px);\n",
       "  height: 1px;\n",
       "  margin: -1px;\n",
       "  overflow: hidden;\n",
       "  padding: 0;\n",
       "  position: absolute;\n",
       "  width: 1px;\n",
       "}\n",
       "\n",
       "#sk-container-id-1 div.sk-dashed-wrapped {\n",
       "  border: 1px dashed var(--sklearn-color-line);\n",
       "  margin: 0 0.4em 0.5em 0.4em;\n",
       "  box-sizing: border-box;\n",
       "  padding-bottom: 0.4em;\n",
       "  background-color: var(--sklearn-color-background);\n",
       "}\n",
       "\n",
       "#sk-container-id-1 div.sk-container {\n",
       "  /* jupyter's `normalize.less` sets `[hidden] { display: none; }`\n",
       "     but bootstrap.min.css set `[hidden] { display: none !important; }`\n",
       "     so we also need the `!important` here to be able to override the\n",
       "     default hidden behavior on the sphinx rendered scikit-learn.org.\n",
       "     See: https://github.com/scikit-learn/scikit-learn/issues/21755 */\n",
       "  display: inline-block !important;\n",
       "  position: relative;\n",
       "}\n",
       "\n",
       "#sk-container-id-1 div.sk-text-repr-fallback {\n",
       "  display: none;\n",
       "}\n",
       "\n",
       "div.sk-parallel-item,\n",
       "div.sk-serial,\n",
       "div.sk-item {\n",
       "  /* draw centered vertical line to link estimators */\n",
       "  background-image: linear-gradient(var(--sklearn-color-text-on-default-background), var(--sklearn-color-text-on-default-background));\n",
       "  background-size: 2px 100%;\n",
       "  background-repeat: no-repeat;\n",
       "  background-position: center center;\n",
       "}\n",
       "\n",
       "/* Parallel-specific style estimator block */\n",
       "\n",
       "#sk-container-id-1 div.sk-parallel-item::after {\n",
       "  content: \"\";\n",
       "  width: 100%;\n",
       "  border-bottom: 2px solid var(--sklearn-color-text-on-default-background);\n",
       "  flex-grow: 1;\n",
       "}\n",
       "\n",
       "#sk-container-id-1 div.sk-parallel {\n",
       "  display: flex;\n",
       "  align-items: stretch;\n",
       "  justify-content: center;\n",
       "  background-color: var(--sklearn-color-background);\n",
       "  position: relative;\n",
       "}\n",
       "\n",
       "#sk-container-id-1 div.sk-parallel-item {\n",
       "  display: flex;\n",
       "  flex-direction: column;\n",
       "}\n",
       "\n",
       "#sk-container-id-1 div.sk-parallel-item:first-child::after {\n",
       "  align-self: flex-end;\n",
       "  width: 50%;\n",
       "}\n",
       "\n",
       "#sk-container-id-1 div.sk-parallel-item:last-child::after {\n",
       "  align-self: flex-start;\n",
       "  width: 50%;\n",
       "}\n",
       "\n",
       "#sk-container-id-1 div.sk-parallel-item:only-child::after {\n",
       "  width: 0;\n",
       "}\n",
       "\n",
       "/* Serial-specific style estimator block */\n",
       "\n",
       "#sk-container-id-1 div.sk-serial {\n",
       "  display: flex;\n",
       "  flex-direction: column;\n",
       "  align-items: center;\n",
       "  background-color: var(--sklearn-color-background);\n",
       "  padding-right: 1em;\n",
       "  padding-left: 1em;\n",
       "}\n",
       "\n",
       "\n",
       "/* Toggleable style: style used for estimator/Pipeline/ColumnTransformer box that is\n",
       "clickable and can be expanded/collapsed.\n",
       "- Pipeline and ColumnTransformer use this feature and define the default style\n",
       "- Estimators will overwrite some part of the style using the `sk-estimator` class\n",
       "*/\n",
       "\n",
       "/* Pipeline and ColumnTransformer style (default) */\n",
       "\n",
       "#sk-container-id-1 div.sk-toggleable {\n",
       "  /* Default theme specific background. It is overwritten whether we have a\n",
       "  specific estimator or a Pipeline/ColumnTransformer */\n",
       "  background-color: var(--sklearn-color-background);\n",
       "}\n",
       "\n",
       "/* Toggleable label */\n",
       "#sk-container-id-1 label.sk-toggleable__label {\n",
       "  cursor: pointer;\n",
       "  display: block;\n",
       "  width: 100%;\n",
       "  margin-bottom: 0;\n",
       "  padding: 0.5em;\n",
       "  box-sizing: border-box;\n",
       "  text-align: center;\n",
       "}\n",
       "\n",
       "#sk-container-id-1 label.sk-toggleable__label-arrow:before {\n",
       "  /* Arrow on the left of the label */\n",
       "  content: \"▸\";\n",
       "  float: left;\n",
       "  margin-right: 0.25em;\n",
       "  color: var(--sklearn-color-icon);\n",
       "}\n",
       "\n",
       "#sk-container-id-1 label.sk-toggleable__label-arrow:hover:before {\n",
       "  color: var(--sklearn-color-text);\n",
       "}\n",
       "\n",
       "/* Toggleable content - dropdown */\n",
       "\n",
       "#sk-container-id-1 div.sk-toggleable__content {\n",
       "  max-height: 0;\n",
       "  max-width: 0;\n",
       "  overflow: hidden;\n",
       "  text-align: left;\n",
       "  /* unfitted */\n",
       "  background-color: var(--sklearn-color-unfitted-level-0);\n",
       "}\n",
       "\n",
       "#sk-container-id-1 div.sk-toggleable__content.fitted {\n",
       "  /* fitted */\n",
       "  background-color: var(--sklearn-color-fitted-level-0);\n",
       "}\n",
       "\n",
       "#sk-container-id-1 div.sk-toggleable__content pre {\n",
       "  margin: 0.2em;\n",
       "  border-radius: 0.25em;\n",
       "  color: var(--sklearn-color-text);\n",
       "  /* unfitted */\n",
       "  background-color: var(--sklearn-color-unfitted-level-0);\n",
       "}\n",
       "\n",
       "#sk-container-id-1 div.sk-toggleable__content.fitted pre {\n",
       "  /* unfitted */\n",
       "  background-color: var(--sklearn-color-fitted-level-0);\n",
       "}\n",
       "\n",
       "#sk-container-id-1 input.sk-toggleable__control:checked~div.sk-toggleable__content {\n",
       "  /* Expand drop-down */\n",
       "  max-height: 200px;\n",
       "  max-width: 100%;\n",
       "  overflow: auto;\n",
       "}\n",
       "\n",
       "#sk-container-id-1 input.sk-toggleable__control:checked~label.sk-toggleable__label-arrow:before {\n",
       "  content: \"▾\";\n",
       "}\n",
       "\n",
       "/* Pipeline/ColumnTransformer-specific style */\n",
       "\n",
       "#sk-container-id-1 div.sk-label input.sk-toggleable__control:checked~label.sk-toggleable__label {\n",
       "  color: var(--sklearn-color-text);\n",
       "  background-color: var(--sklearn-color-unfitted-level-2);\n",
       "}\n",
       "\n",
       "#sk-container-id-1 div.sk-label.fitted input.sk-toggleable__control:checked~label.sk-toggleable__label {\n",
       "  background-color: var(--sklearn-color-fitted-level-2);\n",
       "}\n",
       "\n",
       "/* Estimator-specific style */\n",
       "\n",
       "/* Colorize estimator box */\n",
       "#sk-container-id-1 div.sk-estimator input.sk-toggleable__control:checked~label.sk-toggleable__label {\n",
       "  /* unfitted */\n",
       "  background-color: var(--sklearn-color-unfitted-level-2);\n",
       "}\n",
       "\n",
       "#sk-container-id-1 div.sk-estimator.fitted input.sk-toggleable__control:checked~label.sk-toggleable__label {\n",
       "  /* fitted */\n",
       "  background-color: var(--sklearn-color-fitted-level-2);\n",
       "}\n",
       "\n",
       "#sk-container-id-1 div.sk-label label.sk-toggleable__label,\n",
       "#sk-container-id-1 div.sk-label label {\n",
       "  /* The background is the default theme color */\n",
       "  color: var(--sklearn-color-text-on-default-background);\n",
       "}\n",
       "\n",
       "/* On hover, darken the color of the background */\n",
       "#sk-container-id-1 div.sk-label:hover label.sk-toggleable__label {\n",
       "  color: var(--sklearn-color-text);\n",
       "  background-color: var(--sklearn-color-unfitted-level-2);\n",
       "}\n",
       "\n",
       "/* Label box, darken color on hover, fitted */\n",
       "#sk-container-id-1 div.sk-label.fitted:hover label.sk-toggleable__label.fitted {\n",
       "  color: var(--sklearn-color-text);\n",
       "  background-color: var(--sklearn-color-fitted-level-2);\n",
       "}\n",
       "\n",
       "/* Estimator label */\n",
       "\n",
       "#sk-container-id-1 div.sk-label label {\n",
       "  font-family: monospace;\n",
       "  font-weight: bold;\n",
       "  display: inline-block;\n",
       "  line-height: 1.2em;\n",
       "}\n",
       "\n",
       "#sk-container-id-1 div.sk-label-container {\n",
       "  text-align: center;\n",
       "}\n",
       "\n",
       "/* Estimator-specific */\n",
       "#sk-container-id-1 div.sk-estimator {\n",
       "  font-family: monospace;\n",
       "  border: 1px dotted var(--sklearn-color-border-box);\n",
       "  border-radius: 0.25em;\n",
       "  box-sizing: border-box;\n",
       "  margin-bottom: 0.5em;\n",
       "  /* unfitted */\n",
       "  background-color: var(--sklearn-color-unfitted-level-0);\n",
       "}\n",
       "\n",
       "#sk-container-id-1 div.sk-estimator.fitted {\n",
       "  /* fitted */\n",
       "  background-color: var(--sklearn-color-fitted-level-0);\n",
       "}\n",
       "\n",
       "/* on hover */\n",
       "#sk-container-id-1 div.sk-estimator:hover {\n",
       "  /* unfitted */\n",
       "  background-color: var(--sklearn-color-unfitted-level-2);\n",
       "}\n",
       "\n",
       "#sk-container-id-1 div.sk-estimator.fitted:hover {\n",
       "  /* fitted */\n",
       "  background-color: var(--sklearn-color-fitted-level-2);\n",
       "}\n",
       "\n",
       "/* Specification for estimator info (e.g. \"i\" and \"?\") */\n",
       "\n",
       "/* Common style for \"i\" and \"?\" */\n",
       "\n",
       ".sk-estimator-doc-link,\n",
       "a:link.sk-estimator-doc-link,\n",
       "a:visited.sk-estimator-doc-link {\n",
       "  float: right;\n",
       "  font-size: smaller;\n",
       "  line-height: 1em;\n",
       "  font-family: monospace;\n",
       "  background-color: var(--sklearn-color-background);\n",
       "  border-radius: 1em;\n",
       "  height: 1em;\n",
       "  width: 1em;\n",
       "  text-decoration: none !important;\n",
       "  margin-left: 1ex;\n",
       "  /* unfitted */\n",
       "  border: var(--sklearn-color-unfitted-level-1) 1pt solid;\n",
       "  color: var(--sklearn-color-unfitted-level-1);\n",
       "}\n",
       "\n",
       ".sk-estimator-doc-link.fitted,\n",
       "a:link.sk-estimator-doc-link.fitted,\n",
       "a:visited.sk-estimator-doc-link.fitted {\n",
       "  /* fitted */\n",
       "  border: var(--sklearn-color-fitted-level-1) 1pt solid;\n",
       "  color: var(--sklearn-color-fitted-level-1);\n",
       "}\n",
       "\n",
       "/* On hover */\n",
       "div.sk-estimator:hover .sk-estimator-doc-link:hover,\n",
       ".sk-estimator-doc-link:hover,\n",
       "div.sk-label-container:hover .sk-estimator-doc-link:hover,\n",
       ".sk-estimator-doc-link:hover {\n",
       "  /* unfitted */\n",
       "  background-color: var(--sklearn-color-unfitted-level-3);\n",
       "  color: var(--sklearn-color-background);\n",
       "  text-decoration: none;\n",
       "}\n",
       "\n",
       "div.sk-estimator.fitted:hover .sk-estimator-doc-link.fitted:hover,\n",
       ".sk-estimator-doc-link.fitted:hover,\n",
       "div.sk-label-container:hover .sk-estimator-doc-link.fitted:hover,\n",
       ".sk-estimator-doc-link.fitted:hover {\n",
       "  /* fitted */\n",
       "  background-color: var(--sklearn-color-fitted-level-3);\n",
       "  color: var(--sklearn-color-background);\n",
       "  text-decoration: none;\n",
       "}\n",
       "\n",
       "/* Span, style for the box shown on hovering the info icon */\n",
       ".sk-estimator-doc-link span {\n",
       "  display: none;\n",
       "  z-index: 9999;\n",
       "  position: relative;\n",
       "  font-weight: normal;\n",
       "  right: .2ex;\n",
       "  padding: .5ex;\n",
       "  margin: .5ex;\n",
       "  width: min-content;\n",
       "  min-width: 20ex;\n",
       "  max-width: 50ex;\n",
       "  color: var(--sklearn-color-text);\n",
       "  box-shadow: 2pt 2pt 4pt #999;\n",
       "  /* unfitted */\n",
       "  background: var(--sklearn-color-unfitted-level-0);\n",
       "  border: .5pt solid var(--sklearn-color-unfitted-level-3);\n",
       "}\n",
       "\n",
       ".sk-estimator-doc-link.fitted span {\n",
       "  /* fitted */\n",
       "  background: var(--sklearn-color-fitted-level-0);\n",
       "  border: var(--sklearn-color-fitted-level-3);\n",
       "}\n",
       "\n",
       ".sk-estimator-doc-link:hover span {\n",
       "  display: block;\n",
       "}\n",
       "\n",
       "/* \"?\"-specific style due to the `<a>` HTML tag */\n",
       "\n",
       "#sk-container-id-1 a.estimator_doc_link {\n",
       "  float: right;\n",
       "  font-size: 1rem;\n",
       "  line-height: 1em;\n",
       "  font-family: monospace;\n",
       "  background-color: var(--sklearn-color-background);\n",
       "  border-radius: 1rem;\n",
       "  height: 1rem;\n",
       "  width: 1rem;\n",
       "  text-decoration: none;\n",
       "  /* unfitted */\n",
       "  color: var(--sklearn-color-unfitted-level-1);\n",
       "  border: var(--sklearn-color-unfitted-level-1) 1pt solid;\n",
       "}\n",
       "\n",
       "#sk-container-id-1 a.estimator_doc_link.fitted {\n",
       "  /* fitted */\n",
       "  border: var(--sklearn-color-fitted-level-1) 1pt solid;\n",
       "  color: var(--sklearn-color-fitted-level-1);\n",
       "}\n",
       "\n",
       "/* On hover */\n",
       "#sk-container-id-1 a.estimator_doc_link:hover {\n",
       "  /* unfitted */\n",
       "  background-color: var(--sklearn-color-unfitted-level-3);\n",
       "  color: var(--sklearn-color-background);\n",
       "  text-decoration: none;\n",
       "}\n",
       "\n",
       "#sk-container-id-1 a.estimator_doc_link.fitted:hover {\n",
       "  /* fitted */\n",
       "  background-color: var(--sklearn-color-fitted-level-3);\n",
       "}\n",
       "</style><div id=\"sk-container-id-1\" class=\"sk-top-container\"><div class=\"sk-text-repr-fallback\"><pre>LogisticRegression()</pre><b>In a Jupyter environment, please rerun this cell to show the HTML representation or trust the notebook. <br />On GitHub, the HTML representation is unable to render, please try loading this page with nbviewer.org.</b></div><div class=\"sk-container\" hidden><div class=\"sk-item\"><div class=\"sk-estimator fitted sk-toggleable\"><input class=\"sk-toggleable__control sk-hidden--visually\" id=\"sk-estimator-id-1\" type=\"checkbox\" checked><label for=\"sk-estimator-id-1\" class=\"sk-toggleable__label fitted sk-toggleable__label-arrow fitted\">&nbsp;&nbsp;LogisticRegression<a class=\"sk-estimator-doc-link fitted\" rel=\"noreferrer\" target=\"_blank\" href=\"https://scikit-learn.org/1.4/modules/generated/sklearn.linear_model.LogisticRegression.html\">?<span>Documentation for LogisticRegression</span></a><span class=\"sk-estimator-doc-link fitted\">i<span>Fitted</span></span></label><div class=\"sk-toggleable__content fitted\"><pre>LogisticRegression()</pre></div> </div></div></div></div>"
      ],
      "text/plain": [
       "LogisticRegression()"
      ]
     },
     "execution_count": 53,
     "metadata": {},
     "output_type": "execute_result"
    }
   ],
   "source": [
    "#trainging the data\n",
    "logreg.fit(xtrain,ytrain)"
   ]
  },
  {
   "cell_type": "code",
   "execution_count": 54,
   "id": "473284f4-2ad6-4034-a4a1-ac0821f5bace",
   "metadata": {},
   "outputs": [],
   "source": [
    "#predicting the data\n",
    "ypred = logreg.predict(xtest)"
   ]
  },
  {
   "cell_type": "code",
   "execution_count": 55,
   "id": "3fd6e1a6-f294-407c-b04d-ac2fa37a291c",
   "metadata": {},
   "outputs": [],
   "source": [
    "#importing the reports for the data which is predicted\n",
    "from sklearn.metrics import accuracy_score,confusion_matrix,classification_report"
   ]
  },
  {
   "cell_type": "code",
   "execution_count": 56,
   "id": "0d8d1548-e579-4805-a660-ff1b9054c7a0",
   "metadata": {},
   "outputs": [
    {
     "name": "stdout",
     "output_type": "stream",
     "text": [
      "Accuracy score is 0.9910106653567327\n"
     ]
    }
   ],
   "source": [
    "ac = accuracy_score(ytest,ypred)\n",
    "print(f'Accuracy score is {ac}')"
   ]
  },
  {
   "cell_type": "code",
   "execution_count": 57,
   "id": "0e6e67ba-889b-409c-8f26-f51515704dd8",
   "metadata": {},
   "outputs": [
    {
     "name": "stdout",
     "output_type": "stream",
     "text": [
      "[[1835165    8704]\n",
      " [  11865  432422]]\n"
     ]
    }
   ],
   "source": [
    "cm = confusion_matrix(ytest,ypred)\n",
    "print(cm)"
   ]
  },
  {
   "cell_type": "code",
   "execution_count": 72,
   "id": "69ef0679-1d2d-412d-bd14-8e607b547838",
   "metadata": {},
   "outputs": [
    {
     "data": {
      "image/png": "[encoded data removed]",
      "text/plain": [
       "<Figure size 600x400 with 1 Axes>"
      ]
     },
     "metadata": {},
     "output_type": "display_data"
    }
   ],
   "source": [
    "plt.figure(figsize=(6, 4))\n",
    "sns.heatmap(cm, annot=True, fmt='d', cmap='Blues', cbar=False)\n",
    "plt.title('Confusion Matrix')\n",
    "plt.ylabel('True Label')\n",
    "plt.xlabel('Predicted Label')\n",
    "plt.show()"
   ]
  },
  {
   "cell_type": "code",
   "execution_count": 74,
   "id": "68236cdf-a7ce-4184-8fcf-00cd8c8911ee",
   "metadata": {},
   "outputs": [
    {
     "name": "stdout",
     "output_type": "stream",
     "text": [
      "              precision    recall  f1-score   support\n",
      "\n",
      "           0       0.99      1.00      0.99   1843869\n",
      "           1       0.98      0.97      0.98    444287\n",
      "\n",
      "    accuracy                           0.99   2288156\n",
      "   macro avg       0.99      0.98      0.99   2288156\n",
      "weighted avg       0.99      0.99      0.99   2288156\n",
      "\n"
     ]
    }
   ],
   "source": [
    "cr1 = classification_report(ytest,ypred)\n",
    "cr = classification_report(ytest,ypred,output_dict=True)\n",
    "data_report = pd.DataFrame(cr)\n",
    "print(cr1)"
   ]
  },
  {
   "cell_type": "code",
   "execution_count": 75,
   "id": "c3f67442-d930-4e65-bf9f-db61d5d41c77",
   "metadata": {},
   "outputs": [
    {
     "data": {
      "image/png": "[encoded data removed]",
      "text/plain": [
       "<Figure size 800x600 with 1 Axes>"
      ]
     },
     "metadata": {},
     "output_type": "display_data"
    }
   ],
   "source": [
    "# Bar plot of precision, recall, f1-score\n",
    "data_report[['precision', 'recall', 'f1-score']].plot(kind='bar', figsize=(8, 6))\n",
    "plt.title('Precision, Recall, F1-Score by Class')\n",
    "plt.ylabel('Score')\n",
    "plt.show()"
   ]
  },
  {
   "cell_type": "code",
   "execution_count": 77,
   "id": "968ac550-dc1e-4540-9112-3797fbc242fc",
   "metadata": {},
   "outputs": [
    {
     "name": "stdout",
     "output_type": "stream",
     "text": [
      "Training Score is 0.9909956930365295\n",
      "Testing Score is 0.9910106653567327\n"
     ]
    }
   ],
   "source": [
    "#training and testing score for checking overfit and underfit\n",
    "training = logreg.score(xtrain,ytrain)\n",
    "testing = logreg.score(xtest,ytest)\n",
    "\n",
    "print(f'Training Score is {training}')\n",
    "print(f'Testing Score is {testing}')"
   ]
  },
  {
   "cell_type": "code",
   "execution_count": null,
   "id": "f0ea6e3a-79ae-46f9-8cdf-3df442036182",
   "metadata": {},
   "outputs": [],
   "source": []
  }
 ],
 "metadata": {
  "kernelspec": {
   "display_name": "Python 3 (ipykernel)",
   "language": "python",
   "name": "python3"
  },
  "language_info": {
   "codemirror_mode": {
    "name": "ipython",
    "version": 3
   },
   "file_extension": ".py",
   "mimetype": "text/x-python",
   "name": "python",
   "nbconvert_exporter": "python",
   "pygments_lexer": "ipython3",
   "version": "3.12.4"
  }
 },
 "nbformat": 4,
 "nbformat_minor": 5
}
