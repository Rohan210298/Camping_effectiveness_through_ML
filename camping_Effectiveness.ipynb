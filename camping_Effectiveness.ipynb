{
 "cells": [
  {
   "cell_type": "code",
   "execution_count": 1,
   "id": "8cae0cf9-4092-45e9-96e5-e248497f6240",
   "metadata": {},
   "outputs": [],
   "source": [
    "#importing the required library for the model\n",
    "import pandas as pd\n",
    "import numpy as np\n",
    "import warnings\n",
    "warnings.filterwarnings(\"ignore\")"
   ]
  },
  {
   "cell_type": "code",
   "execution_count": 2,
   "id": "94c52e12-c2bc-4586-8d80-f14624cf79be",
   "metadata": {},
   "outputs": [],
   "source": [
    "#converting the csv file to pandas DataFrame\n",
    "df = pd.read_csv(\"Campaign_Data.csv\")"
   ]
  },
  {
   "cell_type": "code",
   "execution_count": 3,
   "id": "1b8ce3e9-9633-4d4b-824f-39e17f47f386",
   "metadata": {},
   "outputs": [
    {
     "name": "stdout",
     "output_type": "stream",
     "text": [
      "<class 'pandas.core.frame.DataFrame'>\n",
      "RangeIndex: 10912592 entries, 0 to 10912591\n",
      "Data columns (total 4 columns):\n",
      " #   Column              Dtype \n",
      "---  ------              ----- \n",
      " 0   CustID              object\n",
      " 1   status              object\n",
      " 2   Campaign_Exec_Date  object\n",
      " 3   Campaign_Channel    object\n",
      "dtypes: object(4)\n",
      "memory usage: 333.0+ MB\n"
     ]
    }
   ],
   "source": [
    "df.info()"
   ]
  },
  {
   "cell_type": "code",
   "execution_count": 4,
   "id": "f74e67dd-74c2-4ec1-b587-f04196b61d65",
   "metadata": {},
   "outputs": [
    {
     "data": {
      "text/plain": [
       "CustID                0\n",
       "status                0\n",
       "Campaign_Exec_Date    0\n",
       "Campaign_Channel      0\n",
       "dtype: int64"
      ]
     },
     "execution_count": 4,
     "metadata": {},
     "output_type": "execute_result"
    }
   ],
   "source": [
    "#calculating the null values present in the data\n",
    "df.isnull().sum()"
   ]
  },
  {
   "cell_type": "code",
   "execution_count": 5,
   "id": "274187f2-8911-4e53-89ed-7b472a2dc3d6",
   "metadata": {},
   "outputs": [
    {
     "data": {
      "text/plain": [
       "Campaign_Channel\n",
       "Email    10527383\n",
       "SMS        385209\n",
       "Name: count, dtype: int64"
      ]
     },
     "execution_count": 5,
     "metadata": {},
     "output_type": "execute_result"
    }
   ],
   "source": [
    "#calculating the unique values in the columns\n",
    "df[\"Campaign_Channel\"].value_counts()"
   ]
  },
  {
   "cell_type": "code",
   "execution_count": 6,
   "id": "cb6808b3-63e7-496a-ac5b-99cd891dafab",
   "metadata": {},
   "outputs": [
    {
     "data": {
      "text/plain": [
       "status\n",
       "viewed       5697853\n",
       "delivered    5002558\n",
       "click         170190\n",
       "clicked        41991\n",
       "Name: count, dtype: int64"
      ]
     },
     "execution_count": 6,
     "metadata": {},
     "output_type": "execute_result"
    }
   ],
   "source": [
    "df[\"status\"].value_counts()"
   ]
  },
  {
   "cell_type": "code",
   "execution_count": 7,
   "id": "2ad4194e-8009-44c2-ac52-68da3e9bb4af",
   "metadata": {},
   "outputs": [],
   "source": [
    "df2 = pd.read_csv(\"Customer_Master_Data.csv\")"
   ]
  },
  {
   "cell_type": "code",
   "execution_count": 8,
   "id": "a00be075-a022-4c41-8a81-4aba751f8d90",
   "metadata": {},
   "outputs": [
    {
     "name": "stdout",
     "output_type": "stream",
     "text": [
      "<class 'pandas.core.frame.DataFrame'>\n",
      "RangeIndex: 502121 entries, 0 to 502120\n",
      "Data columns (total 5 columns):\n",
      " #   Column          Non-Null Count   Dtype \n",
      "---  ------          --------------   ----- \n",
      " 0   CustID          502121 non-null  object\n",
      " 1   Gender          364467 non-null  object\n",
      " 2   Marital_Status  67995 non-null   object\n",
      " 3   Pincode         492249 non-null  object\n",
      " 4   State           492181 non-null  object\n",
      "dtypes: object(5)\n",
      "memory usage: 19.2+ MB\n"
     ]
    }
   ],
   "source": [
    "df2.info()"
   ]
  },
  {
   "cell_type": "code",
   "execution_count": 9,
   "id": "8f574d63-67c6-44d9-943e-ef23d1df2106",
   "metadata": {},
   "outputs": [
    {
     "data": {
      "text/html": [
       "<div>\n",
       "<style scoped>\n",
       "    .dataframe tbody tr th:only-of-type {\n",
       "        vertical-align: middle;\n",
       "    }\n",
       "\n",
       "    .dataframe tbody tr th {\n",
       "        vertical-align: top;\n",
       "    }\n",
       "\n",
       "    .dataframe thead th {\n",
       "        text-align: right;\n",
       "    }\n",
       "</style>\n",
       "<table border=\"1\" class=\"dataframe\">\n",
       "  <thead>\n",
       "    <tr style=\"text-align: right;\">\n",
       "      <th></th>\n",
       "      <th>CustID</th>\n",
       "      <th>Gender</th>\n",
       "      <th>Marital_Status</th>\n",
       "      <th>Pincode</th>\n",
       "      <th>State</th>\n",
       "    </tr>\n",
       "  </thead>\n",
       "  <tbody>\n",
       "    <tr>\n",
       "      <th>0</th>\n",
       "      <td>7teAttAeH</td>\n",
       "      <td>NaN</td>\n",
       "      <td>NaN</td>\n",
       "      <td>678506.0</td>\n",
       "      <td>Keral</td>\n",
       "    </tr>\n",
       "    <tr>\n",
       "      <th>1</th>\n",
       "      <td>7t8tJJHt7</td>\n",
       "      <td>NaN</td>\n",
       "      <td>NaN</td>\n",
       "      <td>770001.0</td>\n",
       "      <td>Odisha</td>\n",
       "    </tr>\n",
       "    <tr>\n",
       "      <th>2</th>\n",
       "      <td>787t17tJt</td>\n",
       "      <td>NaN</td>\n",
       "      <td>NaN</td>\n",
       "      <td>245101.0</td>\n",
       "      <td>Uttar Pradesh</td>\n",
       "    </tr>\n",
       "    <tr>\n",
       "      <th>3</th>\n",
       "      <td>787ttJtHH</td>\n",
       "      <td>NaN</td>\n",
       "      <td>NaN</td>\n",
       "      <td>673008.0</td>\n",
       "      <td>Keral</td>\n",
       "    </tr>\n",
       "    <tr>\n",
       "      <th>4</th>\n",
       "      <td>7878HHoHo</td>\n",
       "      <td>NaN</td>\n",
       "      <td>NaN</td>\n",
       "      <td>501510.0</td>\n",
       "      <td>Telangana</td>\n",
       "    </tr>\n",
       "    <tr>\n",
       "      <th>5</th>\n",
       "      <td>7878G1HJo</td>\n",
       "      <td>NaN</td>\n",
       "      <td>NaN</td>\n",
       "      <td>206130.0</td>\n",
       "      <td>Uttar Pradesh</td>\n",
       "    </tr>\n",
       "    <tr>\n",
       "      <th>6</th>\n",
       "      <td>78788H78H</td>\n",
       "      <td>NaN</td>\n",
       "      <td>NaN</td>\n",
       "      <td>NaN</td>\n",
       "      <td>NaN</td>\n",
       "    </tr>\n",
       "    <tr>\n",
       "      <th>7</th>\n",
       "      <td>78GJ7o1HH</td>\n",
       "      <td>NaN</td>\n",
       "      <td>NaN</td>\n",
       "      <td>734007.0</td>\n",
       "      <td>West Bengal</td>\n",
       "    </tr>\n",
       "    <tr>\n",
       "      <th>8</th>\n",
       "      <td>JJ87t1tAG</td>\n",
       "      <td>NaN</td>\n",
       "      <td>NaN</td>\n",
       "      <td>110015.0</td>\n",
       "      <td>Delhi</td>\n",
       "    </tr>\n",
       "    <tr>\n",
       "      <th>9</th>\n",
       "      <td>G7te7eJo1</td>\n",
       "      <td>NaN</td>\n",
       "      <td>NaN</td>\n",
       "      <td>NaN</td>\n",
       "      <td>NaN</td>\n",
       "    </tr>\n",
       "  </tbody>\n",
       "</table>\n",
       "</div>"
      ],
      "text/plain": [
       "      CustID Gender Marital_Status   Pincode          State\n",
       "0  7teAttAeH    NaN            NaN  678506.0          Keral\n",
       "1  7t8tJJHt7    NaN            NaN  770001.0         Odisha\n",
       "2  787t17tJt    NaN            NaN  245101.0  Uttar Pradesh\n",
       "3  787ttJtHH    NaN            NaN  673008.0          Keral\n",
       "4  7878HHoHo    NaN            NaN  501510.0      Telangana\n",
       "5  7878G1HJo    NaN            NaN  206130.0  Uttar Pradesh\n",
       "6  78788H78H    NaN            NaN       NaN            NaN\n",
       "7  78GJ7o1HH    NaN            NaN  734007.0    West Bengal\n",
       "8  JJ87t1tAG    NaN            NaN  110015.0          Delhi\n",
       "9  G7te7eJo1    NaN            NaN       NaN            NaN"
      ]
     },
     "execution_count": 9,
     "metadata": {},
     "output_type": "execute_result"
    }
   ],
   "source": [
    "df2.head(10)"
   ]
  },
  {
   "cell_type": "code",
   "execution_count": 10,
   "id": "8a88156d-574d-4245-8ebd-c0698b9cc2a4",
   "metadata": {},
   "outputs": [
    {
     "data": {
      "text/plain": [
       "CustID             0.000000\n",
       "Gender            27.414508\n",
       "Marital_Status    86.458443\n",
       "Pincode            1.966060\n",
       "State              1.979603\n",
       "dtype: float64"
      ]
     },
     "execution_count": 10,
     "metadata": {},
     "output_type": "execute_result"
    }
   ],
   "source": [
    "#calculating the percentage of the null values present in the dataframe\n",
    "df2.isnull().sum()/len(df2)*100"
   ]
  },
  {
   "cell_type": "code",
   "execution_count": 11,
   "id": "403c2b58-84d2-4057-86de-a50c740ca539",
   "metadata": {},
   "outputs": [
    {
     "data": {
      "text/plain": [
       "9872"
      ]
     },
     "execution_count": 11,
     "metadata": {},
     "output_type": "execute_result"
    }
   ],
   "source": [
    "#checking the total no of null values present in the column\n",
    "df2[\"Pincode\"].isnull().sum()"
   ]
  },
  {
   "cell_type": "code",
   "execution_count": 12,
   "id": "c77a427b-b081-47d0-be85-e26e435359c1",
   "metadata": {},
   "outputs": [],
   "source": [
    "#droping the column beccause the more than 85% values are nulls\n",
    "df2.drop(\"Marital_Status\",axis=1,inplace=True)"
   ]
  },
  {
   "cell_type": "code",
   "execution_count": 13,
   "id": "2bdd6539-7594-411d-84ba-bbf87184e9b2",
   "metadata": {},
   "outputs": [
    {
     "data": {
      "text/plain": [
       "Gender\n",
       "Male           292764\n",
       "Female          71687\n",
       "Transgender        16\n",
       "Name: count, dtype: int64"
      ]
     },
     "execution_count": 13,
     "metadata": {},
     "output_type": "execute_result"
    }
   ],
   "source": [
    "df2[\"Gender\"].value_counts()"
   ]
  },
  {
   "cell_type": "code",
   "execution_count": 15,
   "id": "470baced-8064-4a35-a7f7-2d75cb274665",
   "metadata": {},
   "outputs": [],
   "source": [
    "#filling the null values in the column with \"Not available\"\n",
    "df2[\"Gender\"] = df2[\"Gender\"].fillna(\"Not available\")"
   ]
  },
  {
   "cell_type": "code",
   "execution_count": 16,
   "id": "623fb49e-b030-49a3-83f1-f75ef9b20247",
   "metadata": {},
   "outputs": [],
   "source": [
    "#converting the DataFrame to csv file\n",
    "df2.to_csv(\"mastr_data.csv\")"
   ]
  },
  {
   "cell_type": "code",
   "execution_count": 20,
   "id": "568a6c5b-2c25-4b45-a9ac-988bca685e72",
   "metadata": {},
   "outputs": [],
   "source": [
    "master_data = pd.read_csv(\"master_data.csv\")"
   ]
  },
  {
   "cell_type": "code",
   "execution_count": 21,
   "id": "c190b961-fbc9-470c-9c54-9a415c962280",
   "metadata": {},
   "outputs": [
    {
     "data": {
      "text/plain": [
       "Unnamed: 0            0\n",
       "CustID                0\n",
       "Gender                0\n",
       "Pincode            6102\n",
       "State              6103\n",
       "camping_recieve       0\n",
       "dtype: int64"
      ]
     },
     "execution_count": 21,
     "metadata": {},
     "output_type": "execute_result"
    }
   ],
   "source": [
    "master_data.isnull().sum()"
   ]
  },
  {
   "cell_type": "code",
   "execution_count": 22,
   "id": "78d71a63-9c19-4c5a-bbd8-a38886fd1b76",
   "metadata": {},
   "outputs": [],
   "source": [
    "#filling the null values in the column with \"Not available\"\n",
    "master_data[\"Pincode\"] = master_data[\"Pincode\"].fillna(\"Not available\")"
   ]
  },
  {
   "cell_type": "code",
   "execution_count": 23,
   "id": "ae61bf3b-1d05-4363-9749-62ec8c6e7e65",
   "metadata": {},
   "outputs": [],
   "source": [
    "master_data[\"State\"] = master_data[\"State\"].fillna(\"Not available\")"
   ]
  },
  {
   "cell_type": "code",
   "execution_count": 24,
   "id": "18fbfc8f-3d5d-4adf-9043-42a86df15c1b",
   "metadata": {},
   "outputs": [
    {
     "data": {
      "text/plain": [
       "Unnamed: 0         0\n",
       "CustID             0\n",
       "Gender             0\n",
       "Pincode            0\n",
       "State              0\n",
       "camping_recieve    0\n",
       "dtype: int64"
      ]
     },
     "execution_count": 24,
     "metadata": {},
     "output_type": "execute_result"
    }
   ],
   "source": [
    "master_data.isnull().sum()"
   ]
  },
  {
   "cell_type": "code",
   "execution_count": 25,
   "id": "8abf8e83-ab4f-40a7-aefb-f56d285e0c98",
   "metadata": {},
   "outputs": [],
   "source": [
    "df3 = pd.read_csv(\"Customer_Transaction_Data.csv\")"
   ]
  },
  {
   "cell_type": "code",
   "execution_count": 26,
   "id": "a6dbfa01-740c-4629-b02f-53097f3d08e7",
   "metadata": {},
   "outputs": [
    {
     "name": "stdout",
     "output_type": "stream",
     "text": [
      "<class 'pandas.core.frame.DataFrame'>\n",
      "RangeIndex: 1625393 entries, 0 to 1625392\n",
      "Data columns (total 16 columns):\n",
      " #   Column                    Non-Null Count    Dtype  \n",
      "---  ------                    --------------    -----  \n",
      " 0   CustID                    1625393 non-null  object \n",
      " 1   ItemDesc                  1615527 non-null  object \n",
      " 2   MerchCategoryDescription  1615527 non-null  object \n",
      " 3   MerchClassDescription     1613558 non-null  object \n",
      " 4   MerchGroupDescription     1613558 non-null  object \n",
      " 5   SaleValue                 1625384 non-null  float64\n",
      " 6   OrderedQuantity           1625393 non-null  int64  \n",
      " 7   OrderDate                 1625393 non-null  object \n",
      " 8   ReturnFlag                77239 non-null    object \n",
      " 9   SalesChannelCode          1625393 non-null  object \n",
      " 10  Ecom_BnM_Indicator        1625393 non-null  object \n",
      " 11  StoreID                   1625374 non-null  float64\n",
      " 12  StoreCode                 1625390 non-null  object \n",
      " 13  StoreCity                 1500269 non-null  object \n",
      " 14  StoreState                1442466 non-null  object \n",
      " 15  StorePincode              1442466 non-null  object \n",
      "dtypes: float64(2), int64(1), object(13)\n",
      "memory usage: 198.4+ MB\n"
     ]
    }
   ],
   "source": [
    "df3.info()"
   ]
  },
  {
   "cell_type": "code",
   "execution_count": 27,
   "id": "2ceba537-d2ee-4697-90f1-b670c683f70c",
   "metadata": {},
   "outputs": [
    {
     "data": {
      "text/plain": [
       "CustID                       0.000000\n",
       "ItemDesc                     0.606992\n",
       "MerchCategoryDescription     0.606992\n",
       "MerchClassDescription        0.728132\n",
       "MerchGroupDescription        0.728132\n",
       "SaleValue                    0.000554\n",
       "OrderedQuantity              0.000000\n",
       "OrderDate                    0.000000\n",
       "ReturnFlag                  95.247980\n",
       "SalesChannelCode             0.000000\n",
       "Ecom_BnM_Indicator           0.000000\n",
       "StoreID                      0.001169\n",
       "StoreCode                    0.000185\n",
       "StoreCity                    7.698077\n",
       "StoreState                  11.254324\n",
       "StorePincode                11.254324\n",
       "dtype: float64"
      ]
     },
     "execution_count": 27,
     "metadata": {},
     "output_type": "execute_result"
    }
   ],
   "source": [
    "df3.isnull().sum()/len(df3)*100"
   ]
  },
  {
   "cell_type": "code",
   "execution_count": 28,
   "id": "eb0a2ea0-e7ba-400b-9198-e30d503f3714",
   "metadata": {},
   "outputs": [],
   "source": [
    "#checking the common custid present in the camping data and Transaction_Data if value is present then denoted as 1 and if not then 0\n",
    "df3['camping_recieve'] = np.where(df3['CustID'].isin(df['CustID']), 1, 0)"
   ]
  },
  {
   "cell_type": "code",
   "execution_count": 29,
   "id": "63b45b98-74ac-4bcb-8e50-aa472c8d167b",
   "metadata": {},
   "outputs": [
    {
     "data": {
      "text/plain": [
       "camping_recieve\n",
       "1    1223487\n",
       "0     401906\n",
       "Name: count, dtype: int64"
      ]
     },
     "execution_count": 29,
     "metadata": {},
     "output_type": "execute_result"
    }
   ],
   "source": [
    "df3[\"camping_recieve\"].value_counts()"
   ]
  },
  {
   "cell_type": "code",
   "execution_count": 30,
   "id": "1d5caa87-d0bf-44e3-b10a-e76a34a10c35",
   "metadata": {},
   "outputs": [],
   "source": [
    "#Exclude records which were not sent any campaigns\n",
    "new_trans = df3[df3[\"camping_recieve\"] == 1]"
   ]
  },
  {
   "cell_type": "code",
   "execution_count": 31,
   "id": "1454104e-6ca9-40fb-90c8-7b83b7b045ee",
   "metadata": {},
   "outputs": [],
   "source": [
    "df2['camping_recieve'] = np.where(df2['CustID'].isin(df['CustID']), 1, 0)"
   ]
  },
  {
   "cell_type": "code",
   "execution_count": 38,
   "id": "2966f079-a1ca-4437-ac94-8f911941d79f",
   "metadata": {},
   "outputs": [],
   "source": [
    "master_data = df2[df2[\"camping_recieve\"] == 1]"
   ]
  },
  {
   "cell_type": "code",
   "execution_count": 39,
   "id": "1d3139f6-b5cf-42f3-b60d-6bbac41e66a2",
   "metadata": {},
   "outputs": [
    {
     "data": {
      "text/plain": [
       "CustID                       0\n",
       "MerchGroupDescription    11617\n",
       "SaleValue                    1\n",
       "OrderedQuantity              0\n",
       "OrderDate                    0\n",
       "camping_recieve              0\n",
       "dtype: int64"
      ]
     },
     "execution_count": 39,
     "metadata": {},
     "output_type": "execute_result"
    }
   ],
   "source": [
    "new_trans.isnull().sum()"
   ]
  },
  {
   "cell_type": "code",
   "execution_count": 35,
   "id": "e342137f-a0ab-41b8-8d01-69201489e5cb",
   "metadata": {},
   "outputs": [],
   "source": [
    "#Dropping the colums which are not related to camping data\n",
    "new_trans.drop([\"ItemDesc\",\"MerchCategoryDescription\",\"MerchClassDescription\",\"ReturnFlag\",\"SalesChannelCode\",\"Ecom_BnM_Indicator\"],axis=1,inplace=True)"
   ]
  },
  {
   "cell_type": "code",
   "execution_count": 36,
   "id": "7a8df98b-bb2e-42b4-9a70-ec05157e3802",
   "metadata": {},
   "outputs": [],
   "source": [
    "new_trans.drop([\"StoreID\",\"StoreCode\",\"StoreCity\",\"StoreState\",\"StorePincode\"],axis=1,inplace=True)"
   ]
  },
  {
   "cell_type": "code",
   "execution_count": 40,
   "id": "be9f984b-fa7e-401f-abdf-bccb7208030e",
   "metadata": {},
   "outputs": [],
   "source": [
    "new_trans.drop(\"MerchGroupDescription\",axis=1,inplace=True)"
   ]
  },
  {
   "cell_type": "code",
   "execution_count": 41,
   "id": "b0be4d12-e36e-424a-b621-d0bfb152a725",
   "metadata": {},
   "outputs": [
    {
     "data": {
      "text/html": [
       "<div>\n",
       "<style scoped>\n",
       "    .dataframe tbody tr th:only-of-type {\n",
       "        vertical-align: middle;\n",
       "    }\n",
       "\n",
       "    .dataframe tbody tr th {\n",
       "        vertical-align: top;\n",
       "    }\n",
       "\n",
       "    .dataframe thead th {\n",
       "        text-align: right;\n",
       "    }\n",
       "</style>\n",
       "<table border=\"1\" class=\"dataframe\">\n",
       "  <thead>\n",
       "    <tr style=\"text-align: right;\">\n",
       "      <th></th>\n",
       "      <th>CustID</th>\n",
       "      <th>SaleValue</th>\n",
       "      <th>OrderedQuantity</th>\n",
       "      <th>OrderDate</th>\n",
       "      <th>camping_recieve</th>\n",
       "    </tr>\n",
       "  </thead>\n",
       "  <tbody>\n",
       "    <tr>\n",
       "      <th>0</th>\n",
       "      <td>JFRGRFjeEJVG8RJF8R1Foj8AJJ7Et8oH</td>\n",
       "      <td>-25398.00</td>\n",
       "      <td>-1</td>\n",
       "      <td>2019-01-01</td>\n",
       "      <td>1</td>\n",
       "    </tr>\n",
       "    <tr>\n",
       "      <th>1</th>\n",
       "      <td>JFRGRFjeEJVG8RJF8R1Foj8AJJ7Et8oH</td>\n",
       "      <td>-193703.10</td>\n",
       "      <td>-1</td>\n",
       "      <td>2019-01-01</td>\n",
       "      <td>1</td>\n",
       "    </tr>\n",
       "    <tr>\n",
       "      <th>2</th>\n",
       "      <td>V1AG7tA7E1tMVjt7tVH7JARR11AVotet</td>\n",
       "      <td>26518.98</td>\n",
       "      <td>1</td>\n",
       "      <td>2019-01-01</td>\n",
       "      <td>1</td>\n",
       "    </tr>\n",
       "    <tr>\n",
       "      <th>3</th>\n",
       "      <td>V1AG7tA7E1tMVjt7tVH7JARR11AVotet</td>\n",
       "      <td>0.00</td>\n",
       "      <td>1</td>\n",
       "      <td>2019-01-01</td>\n",
       "      <td>1</td>\n",
       "    </tr>\n",
       "    <tr>\n",
       "      <th>4</th>\n",
       "      <td>tAEVH8jEG1Eoe1GE1JEojJetVtMGFjto</td>\n",
       "      <td>-1120.98</td>\n",
       "      <td>-1</td>\n",
       "      <td>2019-01-01</td>\n",
       "      <td>1</td>\n",
       "    </tr>\n",
       "    <tr>\n",
       "      <th>...</th>\n",
       "      <td>...</td>\n",
       "      <td>...</td>\n",
       "      <td>...</td>\n",
       "      <td>...</td>\n",
       "      <td>...</td>\n",
       "    </tr>\n",
       "    <tr>\n",
       "      <th>1625385</th>\n",
       "      <td>1R8VAEFAj81t8VFE7A8JAEEGFHRRt17H</td>\n",
       "      <td>148399.80</td>\n",
       "      <td>1</td>\n",
       "      <td>2021-12-31</td>\n",
       "      <td>1</td>\n",
       "    </tr>\n",
       "    <tr>\n",
       "      <th>1625387</th>\n",
       "      <td>VJGotRRtJoe7RRMJHHtE1E71EtE7RJ88</td>\n",
       "      <td>4894.98</td>\n",
       "      <td>1</td>\n",
       "      <td>2021-12-31</td>\n",
       "      <td>1</td>\n",
       "    </tr>\n",
       "    <tr>\n",
       "      <th>1625388</th>\n",
       "      <td>VJGotRRtJoe7RRMJHHtE1E71EtE7RJ88</td>\n",
       "      <td>610.98</td>\n",
       "      <td>1</td>\n",
       "      <td>2021-12-31</td>\n",
       "      <td>1</td>\n",
       "    </tr>\n",
       "    <tr>\n",
       "      <th>1625389</th>\n",
       "      <td>VG8FJjo7HJH7118AF7JHGV1FE1tMjJMG</td>\n",
       "      <td>111424.80</td>\n",
       "      <td>1</td>\n",
       "      <td>2021-12-31</td>\n",
       "      <td>1</td>\n",
       "    </tr>\n",
       "    <tr>\n",
       "      <th>1625391</th>\n",
       "      <td>VoVjHMA7RGRj8eAeM1ooAE7VEEe8M1j1</td>\n",
       "      <td>1127.10</td>\n",
       "      <td>1</td>\n",
       "      <td>2021-12-31</td>\n",
       "      <td>1</td>\n",
       "    </tr>\n",
       "  </tbody>\n",
       "</table>\n",
       "<p>1223487 rows × 5 columns</p>\n",
       "</div>"
      ],
      "text/plain": [
       "                                   CustID  SaleValue  OrderedQuantity  \\\n",
       "0        JFRGRFjeEJVG8RJF8R1Foj8AJJ7Et8oH  -25398.00               -1   \n",
       "1        JFRGRFjeEJVG8RJF8R1Foj8AJJ7Et8oH -193703.10               -1   \n",
       "2        V1AG7tA7E1tMVjt7tVH7JARR11AVotet   26518.98                1   \n",
       "3        V1AG7tA7E1tMVjt7tVH7JARR11AVotet       0.00                1   \n",
       "4        tAEVH8jEG1Eoe1GE1JEojJetVtMGFjto   -1120.98               -1   \n",
       "...                                   ...        ...              ...   \n",
       "1625385  1R8VAEFAj81t8VFE7A8JAEEGFHRRt17H  148399.80                1   \n",
       "1625387  VJGotRRtJoe7RRMJHHtE1E71EtE7RJ88    4894.98                1   \n",
       "1625388  VJGotRRtJoe7RRMJHHtE1E71EtE7RJ88     610.98                1   \n",
       "1625389  VG8FJjo7HJH7118AF7JHGV1FE1tMjJMG  111424.80                1   \n",
       "1625391  VoVjHMA7RGRj8eAeM1ooAE7VEEe8M1j1    1127.10                1   \n",
       "\n",
       "          OrderDate  camping_recieve  \n",
       "0        2019-01-01                1  \n",
       "1        2019-01-01                1  \n",
       "2        2019-01-01                1  \n",
       "3        2019-01-01                1  \n",
       "4        2019-01-01                1  \n",
       "...             ...              ...  \n",
       "1625385  2021-12-31                1  \n",
       "1625387  2021-12-31                1  \n",
       "1625388  2021-12-31                1  \n",
       "1625389  2021-12-31                1  \n",
       "1625391  2021-12-31                1  \n",
       "\n",
       "[1223487 rows x 5 columns]"
      ]
     },
     "execution_count": 41,
     "metadata": {},
     "output_type": "execute_result"
    }
   ],
   "source": [
    "new_trans"
   ]
  },
  {
   "cell_type": "code",
   "execution_count": 42,
   "id": "d34d6777-5e5e-4292-b17d-4358d0a2d42c",
   "metadata": {},
   "outputs": [
    {
     "data": {
      "text/html": [
       "<div>\n",
       "<style scoped>\n",
       "    .dataframe tbody tr th:only-of-type {\n",
       "        vertical-align: middle;\n",
       "    }\n",
       "\n",
       "    .dataframe tbody tr th {\n",
       "        vertical-align: top;\n",
       "    }\n",
       "\n",
       "    .dataframe thead th {\n",
       "        text-align: right;\n",
       "    }\n",
       "</style>\n",
       "<table border=\"1\" class=\"dataframe\">\n",
       "  <thead>\n",
       "    <tr style=\"text-align: right;\">\n",
       "      <th></th>\n",
       "      <th>CustID</th>\n",
       "      <th>Gender</th>\n",
       "      <th>Pincode</th>\n",
       "      <th>State</th>\n",
       "      <th>camping_recieve</th>\n",
       "    </tr>\n",
       "  </thead>\n",
       "  <tbody>\n",
       "    <tr>\n",
       "      <th>0</th>\n",
       "      <td>7teAttAeH</td>\n",
       "      <td>Not available</td>\n",
       "      <td>678506.0</td>\n",
       "      <td>Keral</td>\n",
       "      <td>1</td>\n",
       "    </tr>\n",
       "    <tr>\n",
       "      <th>1</th>\n",
       "      <td>7t8tJJHt7</td>\n",
       "      <td>Not available</td>\n",
       "      <td>770001.0</td>\n",
       "      <td>Odisha</td>\n",
       "      <td>1</td>\n",
       "    </tr>\n",
       "    <tr>\n",
       "      <th>2</th>\n",
       "      <td>787t17tJt</td>\n",
       "      <td>Not available</td>\n",
       "      <td>245101.0</td>\n",
       "      <td>Uttar Pradesh</td>\n",
       "      <td>1</td>\n",
       "    </tr>\n",
       "    <tr>\n",
       "      <th>3</th>\n",
       "      <td>787ttJtHH</td>\n",
       "      <td>Not available</td>\n",
       "      <td>673008.0</td>\n",
       "      <td>Keral</td>\n",
       "      <td>1</td>\n",
       "    </tr>\n",
       "    <tr>\n",
       "      <th>4</th>\n",
       "      <td>7878HHoHo</td>\n",
       "      <td>Not available</td>\n",
       "      <td>501510.0</td>\n",
       "      <td>Telangana</td>\n",
       "      <td>1</td>\n",
       "    </tr>\n",
       "  </tbody>\n",
       "</table>\n",
       "</div>"
      ],
      "text/plain": [
       "      CustID         Gender   Pincode          State  camping_recieve\n",
       "0  7teAttAeH  Not available  678506.0          Keral                1\n",
       "1  7t8tJJHt7  Not available  770001.0         Odisha                1\n",
       "2  787t17tJt  Not available  245101.0  Uttar Pradesh                1\n",
       "3  787ttJtHH  Not available  673008.0          Keral                1\n",
       "4  7878HHoHo  Not available  501510.0      Telangana                1"
      ]
     },
     "execution_count": 42,
     "metadata": {},
     "output_type": "execute_result"
    }
   ],
   "source": [
    "master_data.head()"
   ]
  },
  {
   "cell_type": "markdown",
   "id": "9d4566ed-78a3-4bf3-9842-698ceae259b8",
   "metadata": {},
   "source": [
    "**function to calculate if the order is placed within the month or not related to camping excutation date**"
   ]
  },
  {
   "cell_type": "code",
   "execution_count": 44,
   "id": "29df4968-45e3-4e32-83de-c1bf31af47dd",
   "metadata": {},
   "outputs": [],
   "source": [
    "def month_differnce(row,date1,date2):\n",
    "\n",
    "    date1 = pd.to_datetime(row[date1], errors='coerce')\n",
    "    date2 = pd.to_datetime(row[date2], errors='coerce')\n",
    "    if pd.isna(date1) or pd.isna(date2):\n",
    "        return None\n",
    "    date_1 = pd.to_datetime(date1)\n",
    "    date_2 = pd.to_datetime(date2)\n",
    "\n",
    "    year_difference = date_2.year - date_1.year\n",
    "    month_difference = date_2.month - date_1.month\n",
    "\n",
    "    total_month_difference = year_difference*12 + month_difference\n",
    "\n",
    "    return total_month_difference"
   ]
  },
  {
   "cell_type": "markdown",
   "id": "cc1f44f0-96b3-40f0-ba28-38a0f30a6e74",
   "metadata": {},
   "source": [
    "Number of Transactions (qty and value) in the Last 12 Months"
   ]
  },
  {
   "cell_type": "code",
   "execution_count": 46,
   "id": "856163e2-56fa-4dce-af3f-c0984a3b13e1",
   "metadata": {},
   "outputs": [],
   "source": [
    "#convering the datatype pf the column to date-type\n",
    "df[\"Campaign_Exec_Date\"] = pd.to_datetime(df[\"Campaign_Exec_Date\"])\n",
    "new_trans[\"OrderDate\"] = pd.to_datetime(new_trans[\"OrderDate\"])"
   ]
  },
  {
   "cell_type": "code",
   "execution_count": 47,
   "id": "55753a9a-637d-4a7c-bb65-99543df60ed7",
   "metadata": {},
   "outputs": [],
   "source": [
    "#Creating a seprate dataframe for the values of last year\n",
    "one_year_trans = new_trans[(new_trans[\"OrderDate\"].dt.year == 2021) | (new_trans[\"OrderDate\"].dt.year == 2020) ]"
   ]
  },
  {
   "cell_type": "code",
   "execution_count": 48,
   "id": "41d0954b-12bf-43d7-aca3-eebbbf885dcd",
   "metadata": {},
   "outputs": [],
   "source": [
    "one_year_camp = df[(df[\"Campaign_Exec_Date\"].dt.year == 2020) | (df[\"Campaign_Exec_Date\"].dt.year == 2021)]"
   ]
  },
  {
   "cell_type": "code",
   "execution_count": 51,
   "id": "3f9b18a2-bf66-4314-8eca-065f0d0b9ff1",
   "metadata": {},
   "outputs": [],
   "source": [
    "#merging the by performing inner join on master data and camping data\n",
    "Merge_data = pd.merge(one_year_camp, master_data, on='CustID', how='inner')"
   ]
  },
  {
   "cell_type": "code",
   "execution_count": 52,
   "id": "a8cb3bb7-a343-4043-9bd4-cd6f53f5b54b",
   "metadata": {},
   "outputs": [],
   "source": [
    "#merging the by performing inner join on mergedata data and Transaction_Data\n",
    "Merge_data = pd.merge(Merge_data, one_year_trans, on='CustID', how='inner')"
   ]
  },
  {
   "cell_type": "code",
   "execution_count": 53,
   "id": "d4d2653f-034f-4aeb-bd8f-c35033ec7850",
   "metadata": {},
   "outputs": [
    {
     "data": {
      "text/plain": [
       "11440893"
      ]
     },
     "execution_count": 53,
     "metadata": {},
     "output_type": "execute_result"
    }
   ],
   "source": [
    "len(Merge_data)"
   ]
  },
  {
   "cell_type": "code",
   "execution_count": 55,
   "id": "79a68f8e-b126-4b12-ae73-68fb6b51da5a",
   "metadata": {},
   "outputs": [
    {
     "name": "stdout",
     "output_type": "stream",
     "text": [
      "<class 'pandas.core.frame.DataFrame'>\n",
      "RangeIndex: 11440893 entries, 0 to 11440892\n",
      "Data columns (total 12 columns):\n",
      " #   Column              Dtype         \n",
      "---  ------              -----         \n",
      " 0   CustID              object        \n",
      " 1   status              object        \n",
      " 2   Campaign_Exec_Date  datetime64[ns]\n",
      " 3   Campaign_Channel    object        \n",
      " 4   Gender              object        \n",
      " 5   Pincode             object        \n",
      " 6   State               object        \n",
      " 7   camping_recieve_x   int32         \n",
      " 8   SaleValue           float64       \n",
      " 9   OrderedQuantity     int64         \n",
      " 10  OrderDate           datetime64[ns]\n",
      " 11  camping_recieve_y   int32         \n",
      "dtypes: datetime64[ns](2), float64(1), int32(2), int64(1), object(6)\n",
      "memory usage: 960.2+ MB\n"
     ]
    }
   ],
   "source": [
    "Merge_data.info()"
   ]
  },
  {
   "cell_type": "code",
   "execution_count": 56,
   "id": "8b4b0d78-14bf-4126-abfe-d4633b3268fb",
   "metadata": {},
   "outputs": [],
   "source": [
    "Merge_data.drop([\"camping_recieve_x\",\"camping_recieve_y\"],axis=1,inplace=True)"
   ]
  },
  {
   "cell_type": "code",
   "execution_count": 58,
   "id": "d2031b30-773e-4202-b766-bfa2a027d0e9",
   "metadata": {},
   "outputs": [
    {
     "name": "stdout",
     "output_type": "stream",
     "text": [
      "<class 'pandas.core.frame.DataFrame'>\n",
      "RangeIndex: 11440893 entries, 0 to 11440892\n",
      "Data columns (total 10 columns):\n",
      " #   Column              Dtype         \n",
      "---  ------              -----         \n",
      " 0   CustID              object        \n",
      " 1   status              object        \n",
      " 2   Campaign_Exec_Date  datetime64[ns]\n",
      " 3   Campaign_Channel    object        \n",
      " 4   Gender              object        \n",
      " 5   Pincode             object        \n",
      " 6   State               object        \n",
      " 7   SaleValue           float64       \n",
      " 8   OrderedQuantity     int64         \n",
      " 9   OrderDate           datetime64[ns]\n",
      "dtypes: datetime64[ns](2), float64(1), int64(1), object(6)\n",
      "memory usage: 872.9+ MB\n"
     ]
    }
   ],
   "source": [
    "Merge_data.info()"
   ]
  },
  {
   "cell_type": "code",
   "execution_count": null,
   "id": "4fb77853-61ad-4c7f-a104-c7bc5af8cf64",
   "metadata": {},
   "outputs": [],
   "source": [
    "#applying the month difference fuction to DataFrame to calculate the difference in months of camping excutation and orderdate\n",
    "Merge_data[\"month_difference\"] = Merge_data.apply(month_differnce,axis = 1,args=('Campaign_Exec_Date', 'OrderDate'))"
   ]
  },
  {
   "cell_type": "code",
   "execution_count": 62,
   "id": "6689bd37-2fa6-4ab2-ac94-b19476e14960",
   "metadata": {},
   "outputs": [],
   "source": [
    "#function to check Whether there was any transaction within 1 month of campaign - accordingly create an outcome variable - 0 for no transactions and 1 for transactions (\n",
    "def outcome(date):\n",
    "    if date>1:\n",
    "        return 0\n",
    "    else:\n",
    "        return 1"
   ]
  },
  {
   "cell_type": "code",
   "execution_count": null,
   "id": "d0e0b089-10e3-4b9e-8ac9-83b5324b2dba",
   "metadata": {},
   "outputs": [],
   "source": [
    "#applying the function\n",
    "da2[\"outcome\"] = da2[\"month_difference2\"].apply(outcome)"
   ]
  },
  {
   "cell_type": "code",
   "execution_count": 63,
   "id": "3141e35e-4f0d-47a6-a5d8-9b1026699636",
   "metadata": {},
   "outputs": [
    {
     "data": {
      "text/html": [
       "<div>\n",
       "<style scoped>\n",
       "    .dataframe tbody tr th:only-of-type {\n",
       "        vertical-align: middle;\n",
       "    }\n",
       "\n",
       "    .dataframe tbody tr th {\n",
       "        vertical-align: top;\n",
       "    }\n",
       "\n",
       "    .dataframe thead th {\n",
       "        text-align: right;\n",
       "    }\n",
       "</style>\n",
       "<table border=\"1\" class=\"dataframe\">\n",
       "  <thead>\n",
       "    <tr style=\"text-align: right;\">\n",
       "      <th></th>\n",
       "      <th>Unnamed: 0</th>\n",
       "      <th>CustID</th>\n",
       "      <th>status</th>\n",
       "      <th>Campaign_Exec_Date</th>\n",
       "      <th>Campaign_Channel</th>\n",
       "      <th>Gender</th>\n",
       "      <th>Pincode</th>\n",
       "      <th>State</th>\n",
       "      <th>SaleValue</th>\n",
       "      <th>OrderedQuantity</th>\n",
       "      <th>OrderDate</th>\n",
       "      <th>month_difference2</th>\n",
       "      <th>outcome</th>\n",
       "    </tr>\n",
       "  </thead>\n",
       "  <tbody>\n",
       "    <tr>\n",
       "      <th>9660315</th>\n",
       "      <td>9660315</td>\n",
       "      <td>jMj7jjjHAH71GMAA1G7AH71R1MAF8je1</td>\n",
       "      <td>delivered</td>\n",
       "      <td>2020-11-27</td>\n",
       "      <td>Email</td>\n",
       "      <td>Male</td>\n",
       "      <td>110026.0</td>\n",
       "      <td>Delhi</td>\n",
       "      <td>4.08</td>\n",
       "      <td>1</td>\n",
       "      <td>2021-12-27</td>\n",
       "      <td>13</td>\n",
       "      <td>0</td>\n",
       "    </tr>\n",
       "    <tr>\n",
       "      <th>1145970</th>\n",
       "      <td>1145970</td>\n",
       "      <td>7eeJHGtG8</td>\n",
       "      <td>viewed</td>\n",
       "      <td>2020-10-31</td>\n",
       "      <td>Email</td>\n",
       "      <td>Not available</td>\n",
       "      <td>110001.0</td>\n",
       "      <td>Delhi</td>\n",
       "      <td>9639.00</td>\n",
       "      <td>1</td>\n",
       "      <td>2020-11-06</td>\n",
       "      <td>1</td>\n",
       "      <td>1</td>\n",
       "    </tr>\n",
       "    <tr>\n",
       "      <th>8385305</th>\n",
       "      <td>8385305</td>\n",
       "      <td>Ze1qe177oe1AtA1</td>\n",
       "      <td>click</td>\n",
       "      <td>2020-10-27</td>\n",
       "      <td>Email</td>\n",
       "      <td>Male</td>\n",
       "      <td>400050.0</td>\n",
       "      <td>Maharashtra</td>\n",
       "      <td>2748.90</td>\n",
       "      <td>1</td>\n",
       "      <td>2020-03-09</td>\n",
       "      <td>-7</td>\n",
       "      <td>1</td>\n",
       "    </tr>\n",
       "    <tr>\n",
       "      <th>10342267</th>\n",
       "      <td>10342267</td>\n",
       "      <td>oeGHFEjEAVeRo7JeFoe118oGejEMjjjE</td>\n",
       "      <td>viewed</td>\n",
       "      <td>2020-03-29</td>\n",
       "      <td>Email</td>\n",
       "      <td>Male</td>\n",
       "      <td>394107.0</td>\n",
       "      <td>Gujarat</td>\n",
       "      <td>44878.98</td>\n",
       "      <td>1</td>\n",
       "      <td>2020-08-27</td>\n",
       "      <td>5</td>\n",
       "      <td>0</td>\n",
       "    </tr>\n",
       "    <tr>\n",
       "      <th>9204939</th>\n",
       "      <td>9204939</td>\n",
       "      <td>eot7H1oE8oGjo1EJjtVVto1EteAFeGt8</td>\n",
       "      <td>viewed</td>\n",
       "      <td>2020-10-23</td>\n",
       "      <td>Email</td>\n",
       "      <td>Male</td>\n",
       "      <td>394180.0</td>\n",
       "      <td>Gujarat</td>\n",
       "      <td>4059.60</td>\n",
       "      <td>1</td>\n",
       "      <td>2021-05-29</td>\n",
       "      <td>7</td>\n",
       "      <td>0</td>\n",
       "    </tr>\n",
       "  </tbody>\n",
       "</table>\n",
       "</div>"
      ],
      "text/plain": [
       "          Unnamed: 0                            CustID     status  \\\n",
       "9660315      9660315  jMj7jjjHAH71GMAA1G7AH71R1MAF8je1  delivered   \n",
       "1145970      1145970                         7eeJHGtG8     viewed   \n",
       "8385305      8385305                   Ze1qe177oe1AtA1      click   \n",
       "10342267    10342267  oeGHFEjEAVeRo7JeFoe118oGejEMjjjE     viewed   \n",
       "9204939      9204939  eot7H1oE8oGjo1EJjtVVto1EteAFeGt8     viewed   \n",
       "\n",
       "         Campaign_Exec_Date Campaign_Channel         Gender   Pincode  \\\n",
       "9660315          2020-11-27            Email           Male  110026.0   \n",
       "1145970          2020-10-31            Email  Not available  110001.0   \n",
       "8385305          2020-10-27            Email           Male  400050.0   \n",
       "10342267         2020-03-29            Email           Male  394107.0   \n",
       "9204939          2020-10-23            Email           Male  394180.0   \n",
       "\n",
       "                State  SaleValue  OrderedQuantity   OrderDate  \\\n",
       "9660315         Delhi       4.08                1  2021-12-27   \n",
       "1145970         Delhi    9639.00                1  2020-11-06   \n",
       "8385305   Maharashtra    2748.90                1  2020-03-09   \n",
       "10342267      Gujarat   44878.98                1  2020-08-27   \n",
       "9204939       Gujarat    4059.60                1  2021-05-29   \n",
       "\n",
       "          month_difference2  outcome  \n",
       "9660315                  13        0  \n",
       "1145970                   1        1  \n",
       "8385305                  -7        1  \n",
       "10342267                  5        0  \n",
       "9204939                   7        0  "
      ]
     },
     "execution_count": 63,
     "metadata": {},
     "output_type": "execute_result"
    }
   ],
   "source": [
    "Merge_data.sample(5)"
   ]
  },
  {
   "cell_type": "code",
   "execution_count": null,
   "id": "dde0af3b-63bd-4dff-9cd5-aac561137543",
   "metadata": {},
   "outputs": [],
   "source": [
    "#convert the final file into csv\n",
    "da2.to_csv(\"data.csv\")"
   ]
  },
  {
   "cell_type": "code",
   "execution_count": null,
   "id": "ab9475c3-8d8c-4ebe-b68b-d62907b7feec",
   "metadata": {},
   "outputs": [],
   "source": []
  }
 ],
 "metadata": {
  "kernelspec": {
   "display_name": "Python 3 (ipykernel)",
   "language": "python",
   "name": "python3"
  },
  "language_info": {
   "codemirror_mode": {
    "name": "ipython",
    "version": 3
   },
   "file_extension": ".py",
   "mimetype": "text/x-python",
   "name": "python",
   "nbconvert_exporter": "python",
   "pygments_lexer": "ipython3",
   "version": "3.12.4"
  }
 },
 "nbformat": 4,
 "nbformat_minor": 5
}
